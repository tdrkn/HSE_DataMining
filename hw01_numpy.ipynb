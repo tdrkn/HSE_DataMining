{
  "cells": [
    {
      "cell_type": "markdown",
      "metadata": {
        "id": "Ie5p9d_VmhvO"
      },
      "source": [
        "## Домашнее задание 1 (5 баллов)\n",
        "\n",
        "Все задания ниже имеют равный вес (5/10)."
      ]
    },
    {
      "cell_type": "markdown",
      "metadata": {
        "id": "7IDui9BUmhvQ"
      },
      "source": [
        "### О задании\n",
        "\n",
        "В этом домашнем задании вы попрактикуетесь в работе с библиотекой numpy, которая позволяет сравнительно легко и удобно выполнять разнообразные вычисления, избегая самостоятельной реализации поэлементной обработки."
      ]
    },
    {
      "cell_type": "markdown",
      "metadata": {
        "id": "Tt0l6VyLmhvR"
      },
      "source": [
        "Во всех задачах необходимо написать код решения внутри функции и убедиться, что она работает, с помощью [assert](https://python-reference.readthedocs.io/en/latest/docs/statements/assert.html) на выражение с использованием этой функции для данных из условия.\n",
        "\n",
        "При решении задач запрещается использовать циклы (`for`, `while`) и оператор `if`. Да, `map`, `reduce`, `filter` и любые другие \"чисто питоновские\" конструкции тоже запрещены. **Используйте только функционал numpy**.\n",
        "\n",
        "Везде, где встречаются массивы или матрицы, подразумевается, что это `numpy.array`.\n",
        "\n",
        "**numpy reference:** https://numpy.org/doc/stable/reference/index.html"
      ]
    },
    {
      "cell_type": "code",
      "execution_count": 110,
      "metadata": {
        "pycharm": {
          "name": "#%%\n"
        },
        "id": "odLL8RVtmhvS"
      },
      "outputs": [],
      "source": [
        "import numpy as np"
      ]
    },
    {
      "cell_type": "markdown",
      "metadata": {
        "id": "6CfzgVgXmhvS"
      },
      "source": [
        "### Задание 1\n",
        "\n",
        "Напишите функцию, возвращающую округленную взвешенную сумму оценок по данным оценкам и весам. Можете посчитать свою оценку за курс :) В нашем случае вес экзамена равен 0.3, вес домашек - 0.4, вес контрольной - 0.2, вес самостоятельных - 0.1. Например, если за экзамен у вас 7, за домашки 10, за контрольную 8, а за самостоятельные 6, то вы получите отличную оценку 8!\n",
        "\n",
        "Обратите внимание, что на вход приходит всегда двумерный массив. В нем в каждой строке - окенки одного конкретного студента. От вас требуется вернуть итоговую оценку для всех студентов в массиве."
      ]
    },
    {
      "cell_type": "code",
      "execution_count": 111,
      "metadata": {
        "id": "t8C-84bumhvT"
      },
      "outputs": [],
      "source": [
        "def result_mark(weights: np.array, marks: np.array) -> int:\n",
        "    return (np.matmul(marks, weights)).astype(int)"
      ]
    },
    {
      "cell_type": "code",
      "execution_count": 112,
      "metadata": {
        "id": "1SPilxVkmhvT"
      },
      "outputs": [],
      "source": [
        "weights = np.array([0.3, 0.4, 0.2, 0.1])\n",
        "marks = np.array([[7, 10, 8, 6], [6, 9, 7, 6]])\n",
        "# result_mark(weights, marks)\n",
        "assert np.allclose(result_mark(weights, marks), np.array([8, 7]))"
      ]
    },
    {
      "cell_type": "code",
      "execution_count": 113,
      "metadata": {
        "id": "twfmEYMfmhvT"
      },
      "outputs": [],
      "source": [
        "weights = np.array([0.3, 0.4, 0.2, 0.1])\n",
        "marks = np.array([[7, 0, 8, 6]])\n",
        "\n",
        "assert np.allclose(result_mark(weights, marks), np.array([4]))"
      ]
    },
    {
      "cell_type": "markdown",
      "metadata": {
        "id": "514z_bYOmhvU"
      },
      "source": [
        "### Задание 2\n",
        "\n",
        "Напишите функцию, которая каждое четное число в массиве заменяет на его квадрат (вторую степень), а нечетное - на его синус. Округлите все значения в итоговом массиве до двух знаков после запятой."
      ]
    },
    {
      "cell_type": "code",
      "source": [
        "# np.sin(5).round(2)\n",
        "\n",
        "# array = np.array([2, 5, 1, 0, -6, 22, 213431])\n",
        "# array[array % 2 != 0] = np.sin(array[array % 2 != 0]).round(2)\n",
        "# array\n",
        "# np.sin(array[array % 2 != 0]).round(2)"
      ],
      "metadata": {
        "id": "FW1neDJoseWz"
      },
      "execution_count": 114,
      "outputs": []
    },
    {
      "cell_type": "code",
      "execution_count": 115,
      "metadata": {
        "id": "OLv_uRermhvU"
      },
      "outputs": [],
      "source": [
        "def change_array(array: np.array) -> np.array:\n",
        "    chet = array % 2 == 0\n",
        "    nechet = array % 2 != 0\n",
        "    return (array ** 2 * chet + np.round(np.sin(array) * (array % 2 != 0), 2))"
      ]
    },
    {
      "cell_type": "code",
      "execution_count": 116,
      "metadata": {
        "id": "E5_0c-z-mhvU"
      },
      "outputs": [],
      "source": [
        "array = np.array([2, 5, 1, 0, -6, 22, 213431])\n",
        "# change_array(array)\n",
        "assert np.allclose(change_array(array), np.array([4.0, -0.96, 0.84, 0.0, 36.0, 484.0, -0.58]))"
      ]
    },
    {
      "cell_type": "code",
      "execution_count": 117,
      "metadata": {
        "id": "wubvM5RsmhvU"
      },
      "outputs": [],
      "source": [
        "array = np.array([3, 12, 15, -97, 6])\n",
        "\n",
        "assert np.allclose(change_array(array), np.array([0.14, 144.0, 0.65, -0.38, 36.0]))"
      ]
    },
    {
      "cell_type": "markdown",
      "metadata": {
        "id": "iqTWo9kwmhvV"
      },
      "source": [
        "### Задание 3\n",
        "\n",
        "Напишите функцию, которая вычисляет разность каждого элемента с предыдущим (для самого первого считайте, что его разница с \"предыдущим\" нулевая) в виде нового массива и возвращает вектор, в котором каждый новый элемент - сумма всех предыдущих из полученного нового массива."
      ]
    },
    {
      "cell_type": "code",
      "execution_count": 118,
      "metadata": {
        "id": "haW_xgVJmhvV"
      },
      "outputs": [],
      "source": [
        "def cumulative_sum_of_differences(array):\n",
        "  array[1:] = array[1:] - array[:-1]\n",
        "  array[0] = 0\n",
        "  return np.cumsum(array)\n"
      ]
    },
    {
      "cell_type": "code",
      "execution_count": 119,
      "metadata": {
        "id": "fPSKyQyomhvV"
      },
      "outputs": [],
      "source": [
        "array = np.array([3, 6, 2, 8])\n",
        "# cumulative_sum_of_differences(array)\n",
        "assert np.allclose(cumulative_sum_of_differences(array), np.array([0, 3, -1, 5]))"
      ]
    },
    {
      "cell_type": "code",
      "execution_count": 120,
      "metadata": {
        "id": "lBAtfJ7YmhvW"
      },
      "outputs": [],
      "source": [
        "array = np.array([5, 1])\n",
        "\n",
        "assert np.allclose(cumulative_sum_of_differences(array), np.array([0, -4]))"
      ]
    },
    {
      "cell_type": "markdown",
      "metadata": {
        "id": "8nn_3Ig5mhvW"
      },
      "source": [
        "### Задание 4\n",
        "\n",
        "Напишите функцию, которая транспонирует двумерный массив, затем делает из него одномерный (reshape), переводит все элементы массива в *int8* и выводит его отсортированным по убыванию."
      ]
    },
    {
      "cell_type": "code",
      "execution_count": 121,
      "metadata": {
        "id": "UBDkcTdHmhvW"
      },
      "outputs": [],
      "source": [
        "def flatten_and_sort_transposed(array: np.array) -> np.array:\n",
        "    return np.sort((array.T).reshape(-1).astype(np.int8))[::-1]"
      ]
    },
    {
      "cell_type": "code",
      "execution_count": 122,
      "metadata": {
        "id": "rXVV_k_kmhvW"
      },
      "outputs": [],
      "source": [
        "array = np.array([[256, -10], [-381, 112]])\n",
        "\n",
        "assert np.allclose(flatten_and_sort_transposed(array), np.array([112, 0, -10, -125]))"
      ]
    },
    {
      "cell_type": "code",
      "execution_count": 123,
      "metadata": {
        "id": "y4qvrq-AmhvW"
      },
      "outputs": [],
      "source": [
        "array = np.array([[9, 8, 7], [3, 6, 129]])\n",
        "\n",
        "assert np.allclose(flatten_and_sort_transposed(array), np.array([ 9, 8, 7, 6, 3, -127]))"
      ]
    },
    {
      "cell_type": "markdown",
      "metadata": {
        "id": "7DAKRzt_mhvX"
      },
      "source": [
        "### Задание 5\n",
        "\n",
        "Напишите функцию, которая удаляет из массива все строки, среднее значение в которых больше общего среднего значения по всему массиву."
      ]
    },
    {
      "cell_type": "code",
      "execution_count": 124,
      "metadata": {
        "id": "eJPp6rIumhvX"
      },
      "outputs": [],
      "source": [
        "def filter_rows_by_mean(array):\n",
        "    mean_arr = np.mean(array)\n",
        "    mean_rows = (np.mean(array, axis=1) <= mean_arr)\n",
        "    return array[mean_rows]\n"
      ]
    },
    {
      "cell_type": "code",
      "execution_count": 125,
      "metadata": {
        "id": "NXATGjHrmhvX"
      },
      "outputs": [],
      "source": [
        "array = np.array([[1, 2, 3], [7, 8, 9], [4, 5, 6]])\n",
        "res = filter_rows_by_mean(array)\n",
        "\n",
        "assert res.ndim == 2\n",
        "assert np.allclose(res, np.array([[1, 2, 3], [4, 5, 6]]))"
      ]
    },
    {
      "cell_type": "code",
      "execution_count": 126,
      "metadata": {
        "id": "qOvxqz90mhvX"
      },
      "outputs": [],
      "source": [
        "array = np.array([[10, 20], [5, 5], [15, 15]])\n",
        "res = filter_rows_by_mean(array)\n",
        "\n",
        "assert res.ndim == 2\n",
        "assert np.allclose(res, np.array([[5, 5]]))"
      ]
    },
    {
      "cell_type": "markdown",
      "metadata": {
        "id": "hvLNtSDImhvX"
      },
      "source": [
        "### Задание 6\n",
        "\n",
        "Напишите функцию, которая принимает на вход число - размер массива (квадратная матрица), который заполнен по принипу щахматной доски нулями и единицами. Первой (слева сверху) идет всегда единица. Напомним, что на шахматной доске белые и черные ячейки чередуются (в данном задании чередуются нули и единицы)."
      ]
    },
    {
      "cell_type": "code",
      "source": [
        "# (np.indices((3,3)).sum(axis=0)%2==0) * 1"
      ],
      "metadata": {
        "id": "OUUf2Lcs68Uq"
      },
      "execution_count": 127,
      "outputs": []
    },
    {
      "cell_type": "code",
      "execution_count": 128,
      "metadata": {
        "id": "ndBxzFqqmhvX"
      },
      "outputs": [],
      "source": [
        "def create_checkerboard(number):\n",
        "    return (np.indices((number,number)).sum(axis=0)%2==0) * 1"
      ]
    },
    {
      "cell_type": "code",
      "execution_count": 129,
      "metadata": {
        "id": "VjaMHJu4mhvY"
      },
      "outputs": [],
      "source": [
        "number = 3\n",
        "\n",
        "assert np.allclose(create_checkerboard(number) - np.array([[1, 0, 1], [0, 1, 0], [1, 0, 1]]), np.zeros((number, number)))"
      ]
    },
    {
      "cell_type": "code",
      "execution_count": 130,
      "metadata": {
        "id": "PjQc3YC3mhvY"
      },
      "outputs": [],
      "source": [
        "number = 4\n",
        "\n",
        "assert np.allclose(create_checkerboard(number) - np.array([[1, 0, 1, 0], [0, 1, 0, 1], [1, 0, 1, 0], [0, 1, 0, 1]]), np.zeros((number, number)))"
      ]
    },
    {
      "cell_type": "markdown",
      "metadata": {
        "id": "8zmwvXfxmhvY"
      },
      "source": [
        "### Задание 7\n",
        "\n",
        "Напишите функцию, которая соритрует строки двумерного массива по значению в первом (начиная с нуля) столбце (по возрастанию)."
      ]
    },
    {
      "cell_type": "code",
      "source": [
        "# array = np.array([[10, 2], [3, 5], [7, 1]])\n",
        "# array = array[array[:, 1].argsort()]\n",
        "# array"
      ],
      "metadata": {
        "id": "b7F62S5r8PnY"
      },
      "execution_count": 131,
      "outputs": []
    },
    {
      "cell_type": "code",
      "execution_count": 132,
      "metadata": {
        "id": "2iXt6cOgmhvY"
      },
      "outputs": [],
      "source": [
        "def sort_rows_by_second_column(array):\n",
        "    return array[array[:, 1].argsort()]"
      ]
    },
    {
      "cell_type": "code",
      "execution_count": 133,
      "metadata": {
        "id": "tIR6rp_UmhvY"
      },
      "outputs": [],
      "source": [
        "array = np.array([[10, 2], [3, 5], [7, 1]])\n",
        "\n",
        "assert np.allclose(sort_rows_by_second_column(array), np.array([[7, 1], [10, 2], [3, 5]]))"
      ]
    },
    {
      "cell_type": "code",
      "execution_count": 134,
      "metadata": {
        "id": "xVilSM5jmhvY"
      },
      "outputs": [],
      "source": [
        "array = np.array([[5, 8, 1], [10, 3, 9], [2, 7, 0], [6, -1, 5]])\n",
        "\n",
        "assert np.allclose(sort_rows_by_second_column(array), np.array([[6, -1, 5], [10, 3, 9], [2, 7, 0], [5, 8, 1]]))"
      ]
    },
    {
      "cell_type": "markdown",
      "metadata": {
        "id": "7pd_dq5FmhvY"
      },
      "source": [
        "### Задание 8\n",
        "\n",
        "Напишите функцию, которая вычисляет сумму элементов [побочной](https://ru.wikipedia.org/wiki/Квадратная_матрица) диагонали квадратной матрицы."
      ]
    },
    {
      "cell_type": "code",
      "execution_count": 135,
      "metadata": {
        "id": "PR3mFxlImhvY"
      },
      "outputs": [],
      "source": [
        "def sum_counterdiagonal_elements(array):\n",
        "    return sum(np.fliplr(array).diagonal())"
      ]
    },
    {
      "cell_type": "code",
      "execution_count": 136,
      "metadata": {
        "id": "chca6zSimhvY"
      },
      "outputs": [],
      "source": [
        "array = np.array([[5, 8, 1], [10, 3, 9], [2, 7, 0]])\n",
        "# sum_counterdiagonal_elements(array)\n",
        "assert sum_counterdiagonal_elements(array) == 6"
      ]
    },
    {
      "cell_type": "code",
      "execution_count": 137,
      "metadata": {
        "id": "fggM65Y8mhvZ"
      },
      "outputs": [],
      "source": [
        "array = np.array([[-4, -1, -1, 7], [6, -10, 5, -9], [3, -8, 6, 8], [-1, -6, 7, -10]])\n",
        "\n",
        "assert sum_counterdiagonal_elements(array) == 3"
      ]
    },
    {
      "cell_type": "markdown",
      "metadata": {
        "id": "iNkuelgqmhvZ"
      },
      "source": [
        "### Задание 9\n",
        "\n",
        "Напишите функцию, которая принимает на вход три числа (начало отрезка, конец отрезка, количество точек на отрезке). Данная функция генерирует указанное количество точек равномерно на отрезке с указанными концами (точки равноудалены друг от друга). Затем функция генерирует другой массив - натуральный логарифм от всех точек отрезка плюс единица ($ln(point + 1)$). Возвращает функция массив пар точек вида (точка на отрезке, ее логарифм). Каждое значение в возвращаемом массиве должно быть округлено до двух знаков после запятой."
      ]
    },
    {
      "cell_type": "code",
      "source": [
        "a = np.linspace(5, 12, 4).reshape(4,-1)\n",
        "b = np.round(np.log(a + 1), 2)\n",
        "np.concatenate((a, b), axis = 1)"
      ],
      "metadata": {
        "id": "YZnw6AOzgtFt",
        "colab": {
          "base_uri": "https://localhost:8080/"
        },
        "outputId": "9c0e1e3d-a3cb-4a6b-81bc-c24799dc1a7e"
      },
      "execution_count": 138,
      "outputs": [
        {
          "output_type": "execute_result",
          "data": {
            "text/plain": [
              "array([[ 5.        ,  1.79      ],\n",
              "       [ 7.33333333,  2.12      ],\n",
              "       [ 9.66666667,  2.37      ],\n",
              "       [12.        ,  2.56      ]])"
            ]
          },
          "metadata": {},
          "execution_count": 138
        }
      ]
    },
    {
      "cell_type": "code",
      "execution_count": 139,
      "metadata": {
        "id": "R58Ifvm7mhvZ"
      },
      "outputs": [],
      "source": [
        "def generate_logarithm_points(start, end, count):\n",
        "    a = np.round(np.linspace(start, end, count).reshape(count,-1), 2)\n",
        "    b = np.round(np.log(a + 1), 2)\n",
        "    return np.concatenate((a, b), axis = 1)"
      ]
    },
    {
      "cell_type": "code",
      "execution_count": 140,
      "metadata": {
        "id": "G1UohAiUmhvZ"
      },
      "outputs": [],
      "source": [
        "start = 1\n",
        "end = 10\n",
        "count = 5\n",
        "# generate_logarithm_points(start, end, count)\n",
        "assert np.allclose(generate_logarithm_points(start, end, count), np.array([[1., 0.69], [3.25, 1.45], [5.5 , 1.87], [7.75, 2.17], [10., 2.4]]))"
      ]
    },
    {
      "cell_type": "code",
      "execution_count": 141,
      "metadata": {
        "id": "N6m9-rqBmhvZ"
      },
      "outputs": [],
      "source": [
        "start = 5\n",
        "end = 12\n",
        "count = 4\n",
        "\n",
        "assert np.allclose(generate_logarithm_points(start, end, count), np.array([[5., 1.79], [7.33, 2.12], [9.67, 2.37], [12., 2.56]]))"
      ]
    },
    {
      "cell_type": "markdown",
      "metadata": {
        "id": "RnPq4YMImhva"
      },
      "source": [
        "### Задание 10\n",
        "\n",
        "Напишите функцию, которая нормализует входной двумерный массив.\n",
        "\n",
        "Под нормализацией в данном задании подразумевается перевод всех чисел массива на отрезок $[0; 1]$. Очевидно, недостаточно просто вычесть/прибавить лишнее, чтобы остались числа на нужном отрезке. Суть нормализации массива в том, чтобы не потерять информацию о его элементах и их соотношениях. Потому, необходимо сохранить пропорции расстояний между каждым числом - спроецировать все точки на указанный отрезок. Такой метод масштабирования массива называется MinMaxScaling. Само название дает подсказку, как нужно решить задачу. Дробные числа округляйте до двух знаков после запятой.\n",
        "\n",
        "*Будьте осторожны с делением...*"
      ]
    },
    {
      "cell_type": "code",
      "source": [
        "# array = np.array([[0, 1, 2], [3, 4, 5]])\n",
        "# min_s = np.min(array)\n",
        "# max_s = np.max(array)\n",
        "\n",
        "# np.round((array - min_s)/(max_s - min_s), 2)"
      ],
      "metadata": {
        "colab": {
          "base_uri": "https://localhost:8080/"
        },
        "id": "RBGhiO05KZWb",
        "outputId": "0b69f3af-903a-4275-9cfc-f4e414be267a"
      },
      "execution_count": 142,
      "outputs": [
        {
          "output_type": "execute_result",
          "data": {
            "text/plain": [
              "array([[0. , 0.2, 0.4],\n",
              "       [0.6, 0.8, 1. ]])"
            ]
          },
          "metadata": {},
          "execution_count": 142
        }
      ]
    },
    {
      "cell_type": "code",
      "execution_count": 143,
      "metadata": {
        "id": "G6dFVdtTmhva"
      },
      "outputs": [],
      "source": [
        "def min_max_scale(array):\n",
        "    min_s = np.min(array)\n",
        "    max_s = np.max(array)\n",
        "    return np.round((array - min_s)/(max_s - min_s), 2)"
      ]
    },
    {
      "cell_type": "code",
      "execution_count": 144,
      "metadata": {
        "id": "Bzd6ga8tmhva"
      },
      "outputs": [],
      "source": [
        "array = np.array([[1, 2, 3], [4, 5, 6], [7, 8, 9]])\n",
        "\n",
        "assert np.allclose(min_max_scale(array), np.array([[0. , 0.12, 0.25], [0.38, 0.5 , 0.62], [0.75, 0.88, 1.]]))"
      ]
    },
    {
      "cell_type": "code",
      "execution_count": 145,
      "metadata": {
        "id": "koKXyCq_mhva"
      },
      "outputs": [],
      "source": [
        "array = np.array([[0, 1, 2], [3, 4, 5]])\n",
        "\n",
        "assert np.allclose(min_max_scale(array), np.array([[0., 0.2, 0.4], [0.6, 0.8, 1.]]))"
      ]
    }
  ],
  "metadata": {
    "kernelspec": {
      "display_name": "default",
      "language": "python",
      "name": "python3"
    },
    "language_info": {
      "codemirror_mode": {
        "name": "ipython",
        "version": 3
      },
      "file_extension": ".py",
      "mimetype": "text/x-python",
      "name": "python",
      "nbconvert_exporter": "python",
      "pygments_lexer": "ipython3",
      "version": "3.11.9"
    },
    "colab": {
      "provenance": []
    }
  },
  "nbformat": 4,
  "nbformat_minor": 0
}